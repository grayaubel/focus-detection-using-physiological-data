{
 "cells": [
  {
   "cell_type": "code",
   "execution_count": 7,
   "id": "d5101d21",
   "metadata": {},
   "outputs": [],
   "source": [
    "import os\n",
    "import pickle\n",
    "import numpy as np\n",
    "import pandas as pd\n",
    "import scipy.signal as scisig\n",
    "import scipy.stats\n",
    "from collections import Counter"
   ]
  },
  {
   "cell_type": "markdown",
   "id": "f0770ccd",
   "metadata": {},
   "source": [
    "## Feature engineering"
   ]
  },
  {
   "cell_type": "code",
   "execution_count": 9,
   "id": "7ca8ae09",
   "metadata": {},
   "outputs": [],
   "source": [
    "# Sampling rates\n",
    "fs_dict = {'ACC': 32, 'BVP': 32, 'label': 700}\n",
    "WINDOW_IN_SECONDS = 30\n",
    "\n",
    "# Save path\n",
    "save_path = \"../data/processed/apple_watch_format\""
   ]
  },
  {
   "cell_type": "markdown",
   "id": "3cda0488",
   "metadata": {},
   "source": [
    "### Loading subject data"
   ]
  },
  {
   "cell_type": "code",
   "execution_count": 10,
   "id": "f87fd797",
   "metadata": {},
   "outputs": [],
   "source": [
    "class SubjectData:\n",
    "    def __init__(self, main_path, subject_number):\n",
    "        self.name = f'S{subject_number}'\n",
    "        with open(os.path.join(main_path, self.name, self.name + '.pkl'), 'rb') as file:\n",
    "            self.data = pickle.load(file, encoding = 'latin1')\n",
    "        self.labels = self.data['label']\n",
    "        self.bvp = self.data['signal']['wrist']['BVP']\n",
    "        self.acc = self.data['signal']['wrist']['ACC']"
   ]
  },
  {
   "cell_type": "markdown",
   "id": "5c14f4f8",
   "metadata": {},
   "source": [
    "### Calculate HR, IBI, HRV from BVP"
   ]
  },
  {
   "cell_type": "code",
   "execution_count": 11,
   "id": "d9eef031",
   "metadata": {},
   "outputs": [],
   "source": [
    "def bvp_to_hrv(bvp_signal, fs):\n",
    "    peaks, _ = scisig.find_peaks(bvp_signal, distance=fs*0.4)\n",
    "    ibi = np.diff(peaks) / fs*1000 # IBI in ms ^_^\n",
    "    hr = (60 * 1000) / ibi\n",
    "    rr_diff = np.diff(ibi)\n",
    "    rmssd = np.sqrt(np.mean(rr_diff ** 2)) if len(rr_diff) > 0 else np.nan\n",
    "    timestamps = peaks[1:] / fs\n",
    "\n",
    "    return pd.DataFrame({\n",
    "        'timestamps': pd.to_datetime(timestamps, unit='s'),\n",
    "        'HR': hr,\n",
    "        'IBI': ibi,\n",
    "        'HRV': [rmssd] * len(hr)\n",
    "    })"
   ]
  },
  {
   "cell_type": "markdown",
   "id": "36d1d5cb",
   "metadata": {},
   "source": [
    "### Add ACC into dataframe"
   ]
  },
  {
   "cell_type": "code",
   "execution_count": 14,
   "id": "19699e48",
   "metadata": {},
   "outputs": [],
   "source": [
    "def apple_watch_format(subject_id):\n",
    "    subject = SubjectData(main_path = \"../data/raw/WESAD\", subject_number = subject_id)\n",
    "    bvp = subject.bvp.flatten()\n",
    "    acc = subject.acc\n",
    "    labels = subject.labels\n",
    "\n",
    "    window_len = fs_dict['label'] * WINDOW_IN_SECONDS\n",
    "    total_len = len(labels)\n",
    "    n_windows = total_len // window_len\n",
    "\n",
    "    all_window = []\n",
    "\n",
    "    for i in range(n_windows):\n",
    "        start = i * window_len\n",
    "        end = (i+1) * window_len\n",
    "\n",
    "        # majority vote label\n",
    "        label_window = labels[start:end]\n",
    "        label_window = [l for l in label_window if l in [1, 2, 3]]\n",
    "        if len(label_window) == 0:\n",
    "            continue\n",
    "        label = Counter(label_window).most_common(1)[0][0]\n",
    "        focus = 1 if label == 2 else 0\n",
    "\n",
    "        # ACC window\n",
    "        acc_window = acc[start * fs_dict['ACC'] // fs_dict['label']: end * fs_dict['ACC'] // fs_dict['label'], :]\n",
    "        acc_x = acc_window[:, 0]\n",
    "        acc_y = acc_window[:, 1]\n",
    "        acc_z = acc_window[:, 2]\n",
    "        net_acc = np.sqrt(acc_x**2 + acc_y**2 + acc_z**2)\n",
    "\n",
    "        # ACC stat\n",
    "        acc_features = {\n",
    "            'ACC_x_mean': np.mean(acc_x),\n",
    "            'ACC_y_mean': np.mean(acc_y),\n",
    "            'ACC_z_mean': np.mean(acc_z),\n",
    "            'net_acc_mean': np.mean(net_acc),\n",
    "            'net_acc_std': np.std(net_acc)\n",
    "        }\n",
    "\n",
    "        # BVP window\n",
    "        bvp_window = bvp[start * fs_dict['BVP'] // fs_dict['label']: end * fs_dict['BVP'] // fs_dict['label']]\n",
    "        hrv_df = bvp_to_hrv(bvp_window, fs_dict['BVP'])\n",
    "        if hrv_df.empty:\n",
    "            continue\n",
    "        hrv_mean = hrv_df[['HR', 'IBI', 'HRV']].mean()\n",
    "\n",
    "        data = {\n",
    "            **acc_features,\n",
    "            'HR': hrv_mean['HR'],\n",
    "            'IBI': hrv_mean['IBI'],\n",
    "            'HRV': hrv_mean['HRV'],\n",
    "            'label': focus,\n",
    "            'subject': subject_id\n",
    "        }\n",
    "\n",
    "        all_window.append(data)\n",
    "\n",
    "    df = pd.DataFrame(all_window)\n",
    "    df.to_csv(f'{save_path}/S{subject_id}_apple_watch.csv', index=False)\n",
    "    \n",
    "    print(f'Subject {subject_id} processed with {len(df)} samples.')\n"
   ]
  },
  {
   "cell_type": "code",
   "execution_count": 15,
   "id": "a0d28f66",
   "metadata": {},
   "outputs": [
    {
     "name": "stdout",
     "output_type": "stream",
     "text": [
      "Subject 2 processed with 74 samples.\n",
      "Subject 3 processed with 76 samples.\n",
      "Subject 4 processed with 75 samples.\n",
      "Subject 5 processed with 76 samples.\n",
      "Subject 6 processed with 76 samples.\n",
      "Subject 7 processed with 76 samples.\n",
      "Subject 8 processed with 77 samples.\n",
      "Subject 9 processed with 75 samples.\n",
      "Subject 10 processed with 78 samples.\n",
      "Subject 11 processed with 79 samples.\n",
      "Subject 13 processed with 78 samples.\n",
      "Subject 14 processed with 78 samples.\n",
      "Subject 15 processed with 78 samples.\n",
      "Subject 16 processed with 76 samples.\n",
      "Subject 17 processed with 78 samples.\n"
     ]
    }
   ],
   "source": [
    "for subject_id in [2, 3, 4, 5, 6, 7, 8, 9, 10, 11, 13, 14, 15, 16, 17]:\n",
    "    apple_watch_format(subject_id)"
   ]
  },
  {
   "cell_type": "code",
   "execution_count": null,
   "id": "653582a1",
   "metadata": {},
   "outputs": [],
   "source": []
  }
 ],
 "metadata": {
  "kernelspec": {
   "display_name": "Python 3",
   "language": "python",
   "name": "python3"
  },
  "language_info": {
   "codemirror_mode": {
    "name": "ipython",
    "version": 3
   },
   "file_extension": ".py",
   "mimetype": "text/x-python",
   "name": "python",
   "nbconvert_exporter": "python",
   "pygments_lexer": "ipython3",
   "version": "3.11.11"
  }
 },
 "nbformat": 4,
 "nbformat_minor": 5
}
