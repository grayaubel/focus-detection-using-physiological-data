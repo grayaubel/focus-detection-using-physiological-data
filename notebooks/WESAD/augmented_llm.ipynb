{
 "cells": [
  {
   "cell_type": "code",
   "execution_count": 1,
   "id": "91e4d158",
   "metadata": {},
   "outputs": [],
   "source": [
    "import json\n",
    "import pandas as pd\n",
    "import time\n",
    "import os"
   ]
  },
  {
   "cell_type": "code",
   "execution_count": 2,
   "id": "f82d8e75",
   "metadata": {},
   "outputs": [],
   "source": [
    "from dotenv import load_dotenv"
   ]
  },
  {
   "cell_type": "code",
   "execution_count": 3,
   "id": "a971f687",
   "metadata": {},
   "outputs": [],
   "source": [
    "from openai import OpenAI"
   ]
  },
  {
   "cell_type": "code",
   "execution_count": 4,
   "id": "9ea39f6f",
   "metadata": {},
   "outputs": [
    {
     "data": {
      "text/plain": [
       "True"
      ]
     },
     "execution_count": 4,
     "metadata": {},
     "output_type": "execute_result"
    }
   ],
   "source": [
    "load_dotenv(dotenv_path=\"/Users/wan_aubel/Desktop/focus-detection/focus-detection-using-physiological-data/.env\")"
   ]
  },
  {
   "cell_type": "code",
   "execution_count": 5,
   "id": "802f98ef",
   "metadata": {},
   "outputs": [],
   "source": [
    "api_key = os.getenv(\"AUBEL_GROK_KEY\")"
   ]
  },
  {
   "cell_type": "code",
   "execution_count": 6,
   "id": "810c16e7",
   "metadata": {},
   "outputs": [],
   "source": [
    "def build_prompt(subject_id):\n",
    "    return f\"\"\"🎯 Objective:\n",
    "Generate realistic physiological data for one synthetic subject across 70 rows (each row = 30 seconds of monitoring). Data should be biologically plausible and reflect both inter-subject and intra-subject variability.\n",
    "\n",
    "Include a realistic distribution of attentional states (focused vs. not focused), reflecting transitions across meditation, stress, and amusement. Your goal is to simulate when and why focus increases or degrades, using signal patterns.\n",
    "\n",
    "📌 Key Constraints:\n",
    "- Each subject has a unique **baseline physiology**:\n",
    "    - HR_baseline ∈ [55, 100] bpm (mean heart rate)\n",
    "    - RESP_rate_baseline ∈ [12, 20] breaths/min\n",
    "    - EDA_baseline ∈ [0.5, 2.5] µS\n",
    "- Use subject_id = {subject_id} as a seed for variability\n",
    "\n",
    "📊 Columns per row (generate all):\n",
    "- ACC_x_mean, ACC_y_mean, ACC_z_mean\n",
    "- net_acc_mean, net_acc_std\n",
    "- EDA_mean, EDA_std, EDA_slope\n",
    "- RESP_rate, RESP_regularity\n",
    "- HR\n",
    "- IBI, RMSSD, SDNN, pNN50\n",
    "- lf/hf\n",
    "- label (1 = baseline, 2 = stress, 3 = amusement, 4 = meditation)\n",
    "- focus_label (0 = not focused, 1 = focused)\n",
    "- subject (e.g., 18)\n",
    "\n",
    "🧠 Signal Relationships (enforce them softly):\n",
    "- HR ⬆ → IBI ⬇ (HR = 60000 / IBI)\n",
    "- HR ⬆ → HRV ⬇ (lower RMSSD, SDNN, pNN50)\n",
    "- RESP_regularity ⬆ in focused states\n",
    "- EDA_std ⬇ and EDA_slope ≈ 0 in focused states\n",
    "- lf/hf tends to be **lower** in focused states, **higher** under stress\n",
    "\n",
    "🔍 Focus-specific patterns:\n",
    "- In focused states (e.g., during meditation or deep task engagement):\n",
    "    - RESP_regularity ↑\n",
    "    - EDA_std ↓ and EDA_slope ≈ 0\n",
    "    - HR slightly ↓\n",
    "    - HRV metrics (SDNN, RMSSD) ↑ if relaxed, ↓ if intensely focused\n",
    "    - lf/hf ↓ (except in meditation where it might rise slightly)\n",
    "\n",
    "- In non-focused states (e.g., during stress or distraction):\n",
    "    - HR ↑ and IBI ↓\n",
    "    - HRV ↓\n",
    "    - EDA_std ↑, EDA_slope fluctuates\n",
    "    - RESP_rate ↑ and RESP_regularity ↓\n",
    "    - lf/hf ↑\n",
    "\n",
    "🧪 Label Notes:\n",
    "- Ensure label is varied realistically among [1, 2, 3, 4]\n",
    "- Assign focus_label = 1 during flow/meditation or high regularity, low noise\n",
    "- Assign focus_label = 0 when stress or large variability in EDA, HRV\n",
    "\n",
    "📎 Output Format:\n",
    "Return a valid **JSON list of 70 dictionaries**, one per row. Do not include markdown, explanation, or formatting.\n",
    "\n",
    "📌 Reminder:\n",
    "Use the style/format of this sample below, but DO NOT copy values.\n",
    "[\n",
    "  {{\n",
    "    \"ACC_x_mean\": -34.7,\n",
    "    \"ACC_y_mean\": 26.4,\n",
    "    \"ACC_z_mean\": 9.1,\n",
    "    \"net_acc_mean\": 60.1,\n",
    "    \"net_acc_std\": 9.5,\n",
    "    \"EDA_mean\": 1.21,\n",
    "    \"EDA_std\": 0.006,\n",
    "    \"EDA_slope\": -0.000002,\n",
    "    \"RESP_rate\": 19.5,\n",
    "    \"RESP_regularity\": 2.8,\n",
    "    \"HR\": 78.2,\n",
    "    \"IBI\": 767.0,\n",
    "    \"RMSSD\": 125.3,\n",
    "    \"SDNN\": 90.2,\n",
    "    \"pNN50\": 48.1,\n",
    "    \"lf/hf\": 2.7,\n",
    "    \"label\": 1,\n",
    "    \"subject\": 18,\n",
    "    \"focus_label\": 1\n",
    "  }}\n",
    "]\n",
    "\"\"\"\n"
   ]
  },
  {
   "cell_type": "code",
   "execution_count": 7,
   "id": "0f7c6897",
   "metadata": {},
   "outputs": [],
   "source": [
    "def safe_generate(subject_id, api_key, max_retries=3):\n",
    "    for attempt in range(max_retries):\n",
    "        try:\n",
    "            client = OpenAI(api_key=api_key, base_url=\"https://api.x.ai/v1\")\n",
    "            response = client.chat.completions.create(\n",
    "                model=\"grok-3-latest\",\n",
    "                temperature=0.7,\n",
    "                messages=[\n",
    "                    {\"role\": \"system\", \"content\": \"You are a physiological data simulator generating synthetic data for a focus detection experiment.\"},\n",
    "                    {\"role\": \"user\", \"content\": build_prompt(subject_id)}\n",
    "                ]\n",
    "            )\n",
    "            json_text = response.choices[0].message.content\n",
    "            data = json.loads(json_text)\n",
    "            return data if isinstance(data, list) else [data]\n",
    "        except Exception as e:\n",
    "            print(f\"[Subject {subject_id}] Attempt {attempt+1} failed: {e}\")\n",
    "            time.sleep(1.5 + random.uniform(0, 1.0))\n",
    "    print(f\"[Subject {subject_id}] Failed after {max_retries} retries.\")\n",
    "    return []"
   ]
  },
  {
   "cell_type": "code",
   "execution_count": 8,
   "id": "258bcf07",
   "metadata": {},
   "outputs": [],
   "source": [
    "all_subject = []"
   ]
  },
  {
   "cell_type": "code",
   "execution_count": 9,
   "id": "e3919fed",
   "metadata": {},
   "outputs": [],
   "source": [
    "os.makedirs(\"parsed\", exist_ok=True)"
   ]
  },
  {
   "cell_type": "code",
   "execution_count": 10,
   "id": "8b9404d9",
   "metadata": {},
   "outputs": [
    {
     "name": "stdout",
     "output_type": "stream",
     "text": [
      "Generating subject 18...\n",
      "Generating subject 19...\n",
      "Generating subject 20...\n",
      "Generating subject 21...\n",
      "Generating subject 22...\n",
      "Generating subject 23...\n",
      "Generating subject 24...\n",
      "Generating subject 25...\n",
      "Generating subject 26...\n",
      "Generating subject 27...\n",
      "Generating subject 28...\n",
      "Generating subject 29...\n",
      "Generating subject 30...\n",
      "Generating subject 31...\n"
     ]
    }
   ],
   "source": [
    "for subject_id in range(18, 32):\n",
    "    print(f\"Generating subject {subject_id}...\")\n",
    "    data = safe_generate(subject_id, api_key)\n",
    "    if data:\n",
    "        all_subject.extend(data)\n",
    "        with open(f\"parsed/subject_{subject_id}.json\", \"w\", encoding=\"utf-8\") as f:\n",
    "            json.dump(data, f, indent=2)\n",
    "\n",
    "pd.DataFrame(all_subject).to_csv(\"synthetic_focus_dataset.csv\", index=False)"
   ]
  }
 ],
 "metadata": {
  "kernelspec": {
   "display_name": "Python 3",
   "language": "python",
   "name": "python3"
  },
  "language_info": {
   "codemirror_mode": {
    "name": "ipython",
    "version": 3
   },
   "file_extension": ".py",
   "mimetype": "text/x-python",
   "name": "python",
   "nbconvert_exporter": "python",
   "pygments_lexer": "ipython3",
   "version": "3.11.11"
  }
 },
 "nbformat": 4,
 "nbformat_minor": 5
}
