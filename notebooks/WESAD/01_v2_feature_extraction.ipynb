{
 "cells": [
  {
   "cell_type": "code",
   "execution_count": 1,
   "id": "417de22c",
   "metadata": {},
   "outputs": [],
   "source": [
    "import os\n",
    "import pickle\n",
    "import numpy as np\n",
    "import pandas as pd\n",
    "import scipy.signal as scisig\n",
    "from scipy.signal import welch\n",
    "from collections import Counter"
   ]
  },
  {
   "cell_type": "code",
   "execution_count": 2,
   "id": "24b8e027",
   "metadata": {},
   "outputs": [],
   "source": [
    "class SubjectData:\n",
    "    def __init__(self, main_path, subject_number):\n",
    "        self.name = f'S{subject_number}'\n",
    "        with open(os.path.join(main_path, self.name, self.name + '.pkl'), 'rb') as file:\n",
    "            self.data = pickle.load(file, encoding='latin1')\n",
    "        self.bvp = self.data['signal']['wrist']['BVP']\n",
    "        self.acc = self.data['signal']['wrist']['ACC']\n",
    "        self.labels = self.data['label']"
   ]
  },
  {
   "cell_type": "code",
   "execution_count": 3,
   "id": "68c56dd7",
   "metadata": {},
   "outputs": [],
   "source": [
    "def bvp_to_hrv(bvp_signal, fs):\n",
    "    # Detect peaks\n",
    "    peaks, _ = scisig.find_peaks(bvp_signal, distance=int(fs * 0.4))\n",
    "\n",
    "    if len(peaks) < 3:\n",
    "        return pd.DataFrame()\n",
    "    \n",
    "    # คำนวณ IBI\n",
    "    ibi = np.diff(peaks) / fs * 1000 # ms\n",
    "\n",
    "    # คำนวณ HR\n",
    "    hr = (60 * 1000) / ibi # bpm\n",
    "\n",
    "    # SDNN\n",
    "    sdnn = np.std(ibi) if len(ibi) > 1 else np.nan\n",
    "\n",
    "\n",
    "    # Alighn HR/IBI timestamsp (start at 2nd Beats)\n",
    "    timestamps = peaks[1:] / fs\n",
    "\n",
    "    return pd.DataFrame({\n",
    "        'timestamps': pd.to_datetime(timestamps, unit='s'),\n",
    "        'HR': hr,\n",
    "        'SDNN': sdnn,\n",
    "    })"
   ]
  },
  {
   "cell_type": "code",
   "execution_count": null,
   "id": "f9037406",
   "metadata": {},
   "outputs": [],
   "source": [
    "def feature_extract(subject_id, WINDOW_IN_SECONDS):\n",
    "    subject = SubjectData(main_path=\"../../data/raw/WESAD\", subject_number=subject_id)\n",
    "\n",
    "    # Signals\n",
    "    bvp = subject.bvp.flatten()\n",
    "    acc = subject.acc\n",
    "    labels = subject.labels\n",
    "\n",
    "    # Windows\n",
    "    window_len = fs_dict['label'] * WINDOW_IN_SECONDS\n",
    "    total_len = len(labels)\n",
    "    n_windows = total_len // window_len\n",
    "\n",
    "    all_window = []\n",
    "\n",
    "    for i in range(n_windows):\n",
    "        start = i * window_len\n",
    "        end = (i + 1) * window_len\n",
    "\n",
    "        # timestamp\n",
    "        start_sec = start / fs_dict['label']\n",
    "        timestamp = pd.Timestamp(\"2025-04-30\") + pd.to_timedelta(start_sec, unit='s')\n",
    "\n",
    "        # majority vote label\n",
    "        label_window = labels[start:end]\n",
    "        label_window = [l for l in label_window if l in [1, 2, 3, 4]]\n",
    "        if len(label_window) == 0:\n",
    "            label = -1\n",
    "        else:\n",
    "            label = Counter(label_window).most_common(1)[0][0]\n",
    "\n",
    "        # --- ACC ---\n",
    "        acc_window = acc[start * fs_dict['ACC'] // fs_dict['label']: end * fs_dict['ACC'] // fs_dict['label'], :]\n",
    "        if acc_window.shape[0] == 0: continue\n",
    "        acc_x, acc_y, acc_z = acc_window[:, 0], acc_window[:, 1], acc_window[:, 2]\n",
    "        net_acc = np.sqrt(acc_x ** 2 + acc_y ** 2 + acc_z ** 2)\n",
    "        acc_features = {\n",
    "            'ACC_x_mean': np.mean(acc_x),\n",
    "            'ACC_y_mean': np.mean(acc_y),\n",
    "            'ACC_z_mean': np.mean(acc_z),\n",
    "            'net_acc_mean': np.mean(net_acc),\n",
    "            'net_acc_std': np.std(net_acc)\n",
    "        }\n",
    "\n",
    "        # --- BVP / HRV ---\n",
    "        bvp_window = bvp[start * fs_dict['BVP'] // fs_dict['label']: end * fs_dict['BVP'] // fs_dict['label']]\n",
    "        hrv_df = bvp_to_hrv(bvp_window, fs_dict['BVP'])\n",
    "        if hrv_df.empty: continue\n",
    "        hrv_mean = hrv_df[['HR', 'SDNN']].mean()\n",
    "\n",
    "        data = {\n",
    "            'timestamp': timestamp,\n",
    "            **acc_features,\n",
    "            'HR': hrv_mean['HR'],\n",
    "            'SDNN': hrv_mean['SDNN'],\n",
    "            'label': label,\n",
    "            'subject': subject_id\n",
    "        }\n",
    "        all_window.append(data)\n",
    "\n",
    "    df = pd.DataFrame(all_window)\n",
    "    df.to_csv(f'{save_path}/S{subject_id}.csv', index=False)\n",
    "    print(f'Subject {subject_id} processed with {len(df)} samples.')"
   ]
  },
  {
   "cell_type": "code",
   "execution_count": 5,
   "id": "ed383d9c",
   "metadata": {},
   "outputs": [],
   "source": [
    "# Sampling rates\n",
    "fs_dict = {'ACC': 50, 'BVP': 64, 'label': 700}\n",
    "subject_id = [2, 3, 4, 5, 6, 7, 8, 9, 10, 11, 13, 14, 15, 16, 17]\n",
    "WINDOW_IN_SECONDS = [1, 10, 15, 30]\n",
    "\n",
    "# Save path\n",
    "main_path = \"../../data/processed/apple_watch_format/\""
   ]
  },
  {
   "cell_type": "code",
   "execution_count": 6,
   "id": "547fdcec",
   "metadata": {},
   "outputs": [
    {
     "name": "stdout",
     "output_type": "stream",
     "text": [
      "Subject 2 processed with 61 samples.\n",
      "Subject 3 processed with 64 samples.\n",
      "Subject 4 processed with 30 samples.\n",
      "Subject 5 processed with 81 samples.\n",
      "Subject 6 processed with 25 samples.\n"
     ]
    },
    {
     "ename": "KeyboardInterrupt",
     "evalue": "",
     "output_type": "error",
     "traceback": [
      "\u001b[0;31m---------------------------------------------------------------------------\u001b[0m",
      "\u001b[0;31mKeyboardInterrupt\u001b[0m                         Traceback (most recent call last)",
      "Cell \u001b[0;32mIn[6], line 4\u001b[0m\n\u001b[1;32m      2\u001b[0m \u001b[38;5;28;01mfor\u001b[39;00m \u001b[38;5;28mid\u001b[39m \u001b[38;5;129;01min\u001b[39;00m subject_id:\n\u001b[1;32m      3\u001b[0m     save_path \u001b[38;5;241m=\u001b[39m main_path \u001b[38;5;241m+\u001b[39m \u001b[38;5;124mf\u001b[39m\u001b[38;5;124m'\u001b[39m\u001b[38;5;132;01m{\u001b[39;00mwind_size\u001b[38;5;132;01m}\u001b[39;00m\u001b[38;5;124ms/\u001b[39m\u001b[38;5;124m'\u001b[39m\n\u001b[0;32m----> 4\u001b[0m     \u001b[43mfeature_extract\u001b[49m\u001b[43m(\u001b[49m\u001b[38;5;28;43mid\u001b[39;49m\u001b[43m,\u001b[49m\u001b[43m \u001b[49m\u001b[43mWINDOW_IN_SECONDS\u001b[49m\u001b[38;5;241;43m=\u001b[39;49m\u001b[43mwind_size\u001b[49m\u001b[43m)\u001b[49m\n",
      "Cell \u001b[0;32mIn[4], line 2\u001b[0m, in \u001b[0;36mfeature_extract\u001b[0;34m(subject_id, WINDOW_IN_SECONDS)\u001b[0m\n\u001b[1;32m      1\u001b[0m \u001b[38;5;28;01mdef\u001b[39;00m \u001b[38;5;21mfeature_extract\u001b[39m(subject_id, WINDOW_IN_SECONDS):\n\u001b[0;32m----> 2\u001b[0m     subject \u001b[38;5;241m=\u001b[39m \u001b[43mSubjectData\u001b[49m\u001b[43m(\u001b[49m\u001b[43mmain_path\u001b[49m\u001b[38;5;241;43m=\u001b[39;49m\u001b[38;5;124;43m\"\u001b[39;49m\u001b[38;5;124;43m../../data/raw/WESAD\u001b[39;49m\u001b[38;5;124;43m\"\u001b[39;49m\u001b[43m,\u001b[49m\u001b[43m \u001b[49m\u001b[43msubject_number\u001b[49m\u001b[38;5;241;43m=\u001b[39;49m\u001b[43msubject_id\u001b[49m\u001b[43m)\u001b[49m\n\u001b[1;32m      4\u001b[0m     \u001b[38;5;66;03m# Signals\u001b[39;00m\n\u001b[1;32m      5\u001b[0m     bvp \u001b[38;5;241m=\u001b[39m subject\u001b[38;5;241m.\u001b[39mbvp\u001b[38;5;241m.\u001b[39mflatten()\n",
      "Cell \u001b[0;32mIn[2], line 5\u001b[0m, in \u001b[0;36mSubjectData.__init__\u001b[0;34m(self, main_path, subject_number)\u001b[0m\n\u001b[1;32m      3\u001b[0m \u001b[38;5;28mself\u001b[39m\u001b[38;5;241m.\u001b[39mname \u001b[38;5;241m=\u001b[39m \u001b[38;5;124mf\u001b[39m\u001b[38;5;124m'\u001b[39m\u001b[38;5;124mS\u001b[39m\u001b[38;5;132;01m{\u001b[39;00msubject_number\u001b[38;5;132;01m}\u001b[39;00m\u001b[38;5;124m'\u001b[39m\n\u001b[1;32m      4\u001b[0m \u001b[38;5;28;01mwith\u001b[39;00m \u001b[38;5;28mopen\u001b[39m(os\u001b[38;5;241m.\u001b[39mpath\u001b[38;5;241m.\u001b[39mjoin(main_path, \u001b[38;5;28mself\u001b[39m\u001b[38;5;241m.\u001b[39mname, \u001b[38;5;28mself\u001b[39m\u001b[38;5;241m.\u001b[39mname \u001b[38;5;241m+\u001b[39m \u001b[38;5;124m'\u001b[39m\u001b[38;5;124m.pkl\u001b[39m\u001b[38;5;124m'\u001b[39m), \u001b[38;5;124m'\u001b[39m\u001b[38;5;124mrb\u001b[39m\u001b[38;5;124m'\u001b[39m) \u001b[38;5;28;01mas\u001b[39;00m file:\n\u001b[0;32m----> 5\u001b[0m     \u001b[38;5;28mself\u001b[39m\u001b[38;5;241m.\u001b[39mdata \u001b[38;5;241m=\u001b[39m \u001b[43mpickle\u001b[49m\u001b[38;5;241;43m.\u001b[39;49m\u001b[43mload\u001b[49m\u001b[43m(\u001b[49m\u001b[43mfile\u001b[49m\u001b[43m,\u001b[49m\u001b[43m \u001b[49m\u001b[43mencoding\u001b[49m\u001b[38;5;241;43m=\u001b[39;49m\u001b[38;5;124;43m'\u001b[39;49m\u001b[38;5;124;43mlatin1\u001b[39;49m\u001b[38;5;124;43m'\u001b[39;49m\u001b[43m)\u001b[49m\n\u001b[1;32m      6\u001b[0m \u001b[38;5;28mself\u001b[39m\u001b[38;5;241m.\u001b[39mbvp \u001b[38;5;241m=\u001b[39m \u001b[38;5;28mself\u001b[39m\u001b[38;5;241m.\u001b[39mdata[\u001b[38;5;124m'\u001b[39m\u001b[38;5;124msignal\u001b[39m\u001b[38;5;124m'\u001b[39m][\u001b[38;5;124m'\u001b[39m\u001b[38;5;124mwrist\u001b[39m\u001b[38;5;124m'\u001b[39m][\u001b[38;5;124m'\u001b[39m\u001b[38;5;124mBVP\u001b[39m\u001b[38;5;124m'\u001b[39m]\n\u001b[1;32m      7\u001b[0m \u001b[38;5;28mself\u001b[39m\u001b[38;5;241m.\u001b[39macc \u001b[38;5;241m=\u001b[39m \u001b[38;5;28mself\u001b[39m\u001b[38;5;241m.\u001b[39mdata[\u001b[38;5;124m'\u001b[39m\u001b[38;5;124msignal\u001b[39m\u001b[38;5;124m'\u001b[39m][\u001b[38;5;124m'\u001b[39m\u001b[38;5;124mwrist\u001b[39m\u001b[38;5;124m'\u001b[39m][\u001b[38;5;124m'\u001b[39m\u001b[38;5;124mACC\u001b[39m\u001b[38;5;124m'\u001b[39m]\n",
      "\u001b[0;31mKeyboardInterrupt\u001b[0m: "
     ]
    }
   ],
   "source": [
    "for wind_size in WINDOW_IN_SECONDS:\n",
    "    for id in subject_id:\n",
    "        save_path = main_path + f'{wind_size}s/'\n",
    "        feature_extract(id, WINDOW_IN_SECONDS=wind_size)"
   ]
  }
 ],
 "metadata": {
  "kernelspec": {
   "display_name": "Python 3",
   "language": "python",
   "name": "python3"
  },
  "language_info": {
   "codemirror_mode": {
    "name": "ipython",
    "version": 3
   },
   "file_extension": ".py",
   "mimetype": "text/x-python",
   "name": "python",
   "nbconvert_exporter": "python",
   "pygments_lexer": "ipython3",
   "version": "3.11.11"
  }
 },
 "nbformat": 4,
 "nbformat_minor": 5
}
