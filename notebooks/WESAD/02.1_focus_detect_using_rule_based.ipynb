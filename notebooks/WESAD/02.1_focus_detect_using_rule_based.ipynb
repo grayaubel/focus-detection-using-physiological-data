{
 "cells": [
  {
   "cell_type": "code",
   "execution_count": 1,
   "id": "cf50b9b4",
   "metadata": {},
   "outputs": [],
   "source": [
    "import pandas as pd\n",
    "import numpy as np\n",
    "from tqdm import tqdm"
   ]
  },
  {
   "cell_type": "code",
   "execution_count": 2,
   "id": "63149aa4",
   "metadata": {},
   "outputs": [],
   "source": [
    "from sklearn.metrics import classification_report"
   ]
  },
  {
   "cell_type": "code",
   "execution_count": 3,
   "id": "de313ade",
   "metadata": {},
   "outputs": [],
   "source": [
    "df = pd.read_csv('../../data/processed/WESAD/data_processed/30s/all_data.csv', index_col=0)\n",
    "df['rulebased_label'] = -1"
   ]
  },
  {
   "cell_type": "code",
   "execution_count": 4,
   "id": "df458d35",
   "metadata": {},
   "outputs": [],
   "source": [
    "def detect_focus(hr, hrv, eda, resp_rate):\n",
    "    HR_MIN = 60       \n",
    "    HR_MAX = 100       \n",
    "    HRV_MIN = 30      \n",
    "    EDA_MIN = 0.05    \n",
    "    EDA_MAX = 0.5     \n",
    "    RESP_RATE_MIN = 12  \n",
    "    RESP_RATE_MAX = 20\n",
    "\n",
    "    hr_focus = HR_MIN <= hr <= HR_MAX\n",
    "    hrv_focus = hrv >= HRV_MIN\n",
    "    eda_focus = EDA_MIN <= eda <= EDA_MAX\n",
    "    resp_focus = RESP_RATE_MIN <= resp_rate <= RESP_RATE_MAX \n",
    "\n",
    "    if hr_focus and hrv_focus and eda_focus and resp_focus:\n",
    "        return 1  # Focus\n",
    "    else:\n",
    "        return 0  # Not focus\n"
   ]
  },
  {
   "cell_type": "code",
   "execution_count": 5,
   "id": "a715542c",
   "metadata": {},
   "outputs": [
    {
     "name": "stderr",
     "output_type": "stream",
     "text": [
      "100%|██████████| 1075/1075 [00:00<00:00, 52963.98it/s]\n"
     ]
    }
   ],
   "source": [
    "for i, row in tqdm(df.iterrows(), total=len(df)):\n",
    "    hr = float(row['HR'])\n",
    "    hrv = float(row['SDNN'])\n",
    "    eda = float(row['EDA_mean'])\n",
    "    resp_rate = float(row['RESP_rate'])\n",
    "\n",
    "    focus = detect_focus(hr, hrv, eda, resp_rate)\n",
    "    df.at[i, 'rulebased_label'] = focus"
   ]
  },
  {
   "cell_type": "code",
   "execution_count": 6,
   "id": "614308a4",
   "metadata": {},
   "outputs": [
    {
     "data": {
      "text/html": [
       "<div>\n",
       "<style scoped>\n",
       "    .dataframe tbody tr th:only-of-type {\n",
       "        vertical-align: middle;\n",
       "    }\n",
       "\n",
       "    .dataframe tbody tr th {\n",
       "        vertical-align: top;\n",
       "    }\n",
       "\n",
       "    .dataframe thead th {\n",
       "        text-align: right;\n",
       "    }\n",
       "</style>\n",
       "<table border=\"1\" class=\"dataframe\">\n",
       "  <thead>\n",
       "    <tr style=\"text-align: right;\">\n",
       "      <th></th>\n",
       "      <th>ACC_x_mean</th>\n",
       "      <th>ACC_y_mean</th>\n",
       "      <th>ACC_z_mean</th>\n",
       "      <th>net_acc_mean</th>\n",
       "      <th>net_acc_std</th>\n",
       "      <th>EDA_mean</th>\n",
       "      <th>EDA_std</th>\n",
       "      <th>EDA_slope</th>\n",
       "      <th>RESP_rate</th>\n",
       "      <th>RESP_regularity</th>\n",
       "      <th>HR</th>\n",
       "      <th>IBI</th>\n",
       "      <th>RMSSD</th>\n",
       "      <th>SDNN</th>\n",
       "      <th>pNN50</th>\n",
       "      <th>lf/hf</th>\n",
       "      <th>label</th>\n",
       "      <th>subject</th>\n",
       "      <th>focus_label</th>\n",
       "      <th>rulebased_label</th>\n",
       "    </tr>\n",
       "  </thead>\n",
       "  <tbody>\n",
       "    <tr>\n",
       "      <th>0</th>\n",
       "      <td>37.715333</td>\n",
       "      <td>-35.027333</td>\n",
       "      <td>-9.694000</td>\n",
       "      <td>62.840001</td>\n",
       "      <td>5.214880</td>\n",
       "      <td>0.630601</td>\n",
       "      <td>0.026678</td>\n",
       "      <td>-0.000766</td>\n",
       "      <td>17.748666</td>\n",
       "      <td>1.755023</td>\n",
       "      <td>75.081294</td>\n",
       "      <td>847.426471</td>\n",
       "      <td>226.949936</td>\n",
       "      <td>186.465391</td>\n",
       "      <td>93.939394</td>\n",
       "      <td>1.475494</td>\n",
       "      <td>1</td>\n",
       "      <td>8</td>\n",
       "      <td>1</td>\n",
       "      <td>0</td>\n",
       "    </tr>\n",
       "    <tr>\n",
       "      <th>1</th>\n",
       "      <td>39.252000</td>\n",
       "      <td>-47.664667</td>\n",
       "      <td>7.822000</td>\n",
       "      <td>62.549339</td>\n",
       "      <td>0.544205</td>\n",
       "      <td>0.563131</td>\n",
       "      <td>0.014406</td>\n",
       "      <td>-0.000412</td>\n",
       "      <td>21.083279</td>\n",
       "      <td>1.630067</td>\n",
       "      <td>63.966173</td>\n",
       "      <td>958.669355</td>\n",
       "      <td>213.058396</td>\n",
       "      <td>133.561891</td>\n",
       "      <td>90.000000</td>\n",
       "      <td>5.933398</td>\n",
       "      <td>1</td>\n",
       "      <td>8</td>\n",
       "      <td>1</td>\n",
       "      <td>0</td>\n",
       "    </tr>\n",
       "    <tr>\n",
       "      <th>2</th>\n",
       "      <td>39.628667</td>\n",
       "      <td>-46.246667</td>\n",
       "      <td>9.764000</td>\n",
       "      <td>62.469299</td>\n",
       "      <td>1.120992</td>\n",
       "      <td>0.523506</td>\n",
       "      <td>0.009367</td>\n",
       "      <td>-0.000265</td>\n",
       "      <td>21.327375</td>\n",
       "      <td>1.591487</td>\n",
       "      <td>66.372243</td>\n",
       "      <td>911.132812</td>\n",
       "      <td>134.469912</td>\n",
       "      <td>80.095987</td>\n",
       "      <td>74.193548</td>\n",
       "      <td>44.207315</td>\n",
       "      <td>1</td>\n",
       "      <td>8</td>\n",
       "      <td>1</td>\n",
       "      <td>0</td>\n",
       "    </tr>\n",
       "    <tr>\n",
       "      <th>3</th>\n",
       "      <td>38.927333</td>\n",
       "      <td>-48.439333</td>\n",
       "      <td>6.083333</td>\n",
       "      <td>62.442314</td>\n",
       "      <td>0.428267</td>\n",
       "      <td>0.520051</td>\n",
       "      <td>0.018623</td>\n",
       "      <td>0.000048</td>\n",
       "      <td>22.168906</td>\n",
       "      <td>1.352590</td>\n",
       "      <td>78.588847</td>\n",
       "      <td>803.631757</td>\n",
       "      <td>159.088795</td>\n",
       "      <td>155.426060</td>\n",
       "      <td>58.333333</td>\n",
       "      <td>707.930928</td>\n",
       "      <td>1</td>\n",
       "      <td>8</td>\n",
       "      <td>1</td>\n",
       "      <td>0</td>\n",
       "    </tr>\n",
       "    <tr>\n",
       "      <th>4</th>\n",
       "      <td>38.919333</td>\n",
       "      <td>-47.006667</td>\n",
       "      <td>-0.914667</td>\n",
       "      <td>62.576766</td>\n",
       "      <td>1.166077</td>\n",
       "      <td>0.493109</td>\n",
       "      <td>0.007353</td>\n",
       "      <td>-0.000203</td>\n",
       "      <td>24.011434</td>\n",
       "      <td>1.809602</td>\n",
       "      <td>65.088073</td>\n",
       "      <td>940.020161</td>\n",
       "      <td>199.098718</td>\n",
       "      <td>134.709634</td>\n",
       "      <td>63.333333</td>\n",
       "      <td>6.149627</td>\n",
       "      <td>1</td>\n",
       "      <td>8</td>\n",
       "      <td>1</td>\n",
       "      <td>0</td>\n",
       "    </tr>\n",
       "  </tbody>\n",
       "</table>\n",
       "</div>"
      ],
      "text/plain": [
       "   ACC_x_mean  ACC_y_mean  ACC_z_mean  net_acc_mean  net_acc_std  EDA_mean  \\\n",
       "0   37.715333  -35.027333   -9.694000     62.840001     5.214880  0.630601   \n",
       "1   39.252000  -47.664667    7.822000     62.549339     0.544205  0.563131   \n",
       "2   39.628667  -46.246667    9.764000     62.469299     1.120992  0.523506   \n",
       "3   38.927333  -48.439333    6.083333     62.442314     0.428267  0.520051   \n",
       "4   38.919333  -47.006667   -0.914667     62.576766     1.166077  0.493109   \n",
       "\n",
       "    EDA_std  EDA_slope  RESP_rate  RESP_regularity         HR         IBI  \\\n",
       "0  0.026678  -0.000766  17.748666         1.755023  75.081294  847.426471   \n",
       "1  0.014406  -0.000412  21.083279         1.630067  63.966173  958.669355   \n",
       "2  0.009367  -0.000265  21.327375         1.591487  66.372243  911.132812   \n",
       "3  0.018623   0.000048  22.168906         1.352590  78.588847  803.631757   \n",
       "4  0.007353  -0.000203  24.011434         1.809602  65.088073  940.020161   \n",
       "\n",
       "        RMSSD        SDNN      pNN50       lf/hf  label  subject  focus_label  \\\n",
       "0  226.949936  186.465391  93.939394    1.475494      1        8            1   \n",
       "1  213.058396  133.561891  90.000000    5.933398      1        8            1   \n",
       "2  134.469912   80.095987  74.193548   44.207315      1        8            1   \n",
       "3  159.088795  155.426060  58.333333  707.930928      1        8            1   \n",
       "4  199.098718  134.709634  63.333333    6.149627      1        8            1   \n",
       "\n",
       "   rulebased_label  \n",
       "0                0  \n",
       "1                0  \n",
       "2                0  \n",
       "3                0  \n",
       "4                0  "
      ]
     },
     "execution_count": 6,
     "metadata": {},
     "output_type": "execute_result"
    }
   ],
   "source": [
    "df.head()"
   ]
  },
  {
   "cell_type": "code",
   "execution_count": 7,
   "id": "20fdc571",
   "metadata": {},
   "outputs": [
    {
     "data": {
      "text/plain": [
       "rulebased_label\n",
       "0    971\n",
       "1    104\n",
       "Name: count, dtype: int64"
      ]
     },
     "execution_count": 7,
     "metadata": {},
     "output_type": "execute_result"
    }
   ],
   "source": [
    "df.value_counts('rulebased_label')"
   ]
  },
  {
   "cell_type": "code",
   "execution_count": 8,
   "id": "7ca62b47",
   "metadata": {},
   "outputs": [
    {
     "data": {
      "text/plain": [
       "focus_label\n",
       "1    595\n",
       "0    480\n",
       "Name: count, dtype: int64"
      ]
     },
     "execution_count": 8,
     "metadata": {},
     "output_type": "execute_result"
    }
   ],
   "source": [
    "df.value_counts('focus_label')"
   ]
  },
  {
   "cell_type": "code",
   "execution_count": 9,
   "id": "7ee2907d",
   "metadata": {},
   "outputs": [],
   "source": [
    "features = ['HR', 'EDA_mean', 'RMSSD', 'RESP_rate', 'net_acc_mean']"
   ]
  },
  {
   "cell_type": "code",
   "execution_count": 10,
   "id": "26172873",
   "metadata": {},
   "outputs": [],
   "source": [
    "mask = pd.Series(True, index=df.index)"
   ]
  },
  {
   "cell_type": "code",
   "execution_count": 11,
   "id": "e5a8b68e",
   "metadata": {},
   "outputs": [],
   "source": [
    "for subject in df['subject'].unique():\n",
    "    for label in df['label'].unique():\n",
    "        sub_df = df[(df['subject'] == subject) & (df['label'] == label)]\n",
    "        for feature in features:\n",
    "            q1 = sub_df[feature].quantile(0.25)\n",
    "            q3 = sub_df[feature].quantile(0.75)\n",
    "            iqr = q3 - q1\n",
    "            lower = q1 - 1.5 * iqr\n",
    "            upper = q3 + 1.5 * iqr\n",
    "            outlier_mask = (df['subject'] == subject) & (df['label'] == label) & (\n",
    "                            (df[feature] < lower) | (df[feature] > upper))\n",
    "            mask[outlier_mask] = False\n",
    "\n",
    "df = df[mask].reset_index(drop=True)"
   ]
  },
  {
   "cell_type": "code",
   "execution_count": 12,
   "id": "447cb9bf",
   "metadata": {},
   "outputs": [],
   "source": [
    "subjects = df['subject'].unique()"
   ]
  },
  {
   "cell_type": "code",
   "execution_count": 13,
   "id": "c78303c5",
   "metadata": {},
   "outputs": [
    {
     "data": {
      "text/plain": [
       "rulebased_label\n",
       "0    809\n",
       "1     98\n",
       "Name: count, dtype: int64"
      ]
     },
     "execution_count": 13,
     "metadata": {},
     "output_type": "execute_result"
    }
   ],
   "source": [
    "df.value_counts('rulebased_label')"
   ]
  },
  {
   "cell_type": "code",
   "execution_count": 14,
   "id": "2c2069b8",
   "metadata": {},
   "outputs": [],
   "source": [
    "def safe_slope(x):\n",
    "    if len(x) < 2 or np.all(np.isnan(x)):\n",
    "        return np.nan\n",
    "    try:\n",
    "        return np.polyfit(range(len(x)), x, 1)[0]\n",
    "    except np.linalg.LinAlgError:\n",
    "        return np.nan\n",
    "\n",
    "def add_features_mean_based(df):\n",
    "    df['hr_diff'] = df['HR'].diff()\n",
    "    df['hr_center'] = df['HR'] - df['HR'].mean()\n",
    "    df['hr_slope'] = df['HR'].rolling(window=3, min_periods=2).apply(safe_slope, raw=True)\n",
    "    df['hr_zscore'] = (df['HR'] - df['HR'].mean()) / df['HR'].std()\n",
    "\n",
    "    df['lf_hf_log'] = np.log1p(df['lf/hf'])\n",
    "\n",
    "    df['resp_zscore'] = (df['RESP_rate'] - df['RESP_rate'].mean()) / df['RESP_rate'].std()\n",
    "\n",
    "    df['EDA_slope_clipped'] = df['EDA_slope'].clip(-0.002, 0.005)\n",
    "    df['EDA_mean_clip'] = df['EDA_mean'].clip(upper=df['EDA_mean'].quantile(0.99))\n",
    "    df['EDA_slope_log'] = np.sign(df['EDA_slope_clipped']) * np.log1p(np.abs(df['EDA_slope_clipped']))\n",
    "    df['EDA_slope_pos'] = (df['EDA_slope'] > 0).astype(int)\n",
    "\n",
    "    df['eda_hr_interaction'] = df['EDA_mean'] * df['HR']\n",
    "    df['eda_resp_ratio'] = df['EDA_std'] / df['RESP_regularity']\n",
    "    df['hr_resp_interaction'] = df['HR'] * df['RESP_rate']\n",
    "    df['hr_resp_z_interaction'] = df['hr_zscore'] * df['resp_zscore']\n",
    "    df['hrv_composite'] = (df['RMSSD'] + df['SDNN'] + df['pNN50']) / 3\n",
    "    df['hrv_stress_index'] = df['SDNN'] / df['RMSSD']\n",
    "\n",
    "    df['arousal_index'] = df['HR'] * df['EDA_mean'] * df['RESP_rate']\n",
    "\n",
    "    return df"
   ]
  },
  {
   "cell_type": "code",
   "execution_count": 15,
   "id": "6476f64c",
   "metadata": {},
   "outputs": [],
   "source": [
    "data_feature_addon = []"
   ]
  },
  {
   "cell_type": "code",
   "execution_count": 16,
   "id": "61766813",
   "metadata": {},
   "outputs": [],
   "source": [
    "for s in subjects:\n",
    "    data = df[df['subject'] == s].copy().reset_index(drop=True)\n",
    "    data = add_features_mean_based(data)\n",
    "    data.dropna(inplace=True)\n",
    "    data_feature_addon.append(data)"
   ]
  },
  {
   "cell_type": "code",
   "execution_count": 17,
   "id": "9266f3a3",
   "metadata": {},
   "outputs": [],
   "source": [
    "df_1 = pd.concat(data_feature_addon, ignore_index=True)"
   ]
  },
  {
   "cell_type": "code",
   "execution_count": 18,
   "id": "c155035d",
   "metadata": {},
   "outputs": [
    {
     "data": {
      "text/plain": [
       "rulebased_label\n",
       "0    794\n",
       "1     98\n",
       "Name: count, dtype: int64"
      ]
     },
     "execution_count": 18,
     "metadata": {},
     "output_type": "execute_result"
    }
   ],
   "source": [
    "df_1.value_counts('rulebased_label')"
   ]
  },
  {
   "cell_type": "code",
   "execution_count": 19,
   "id": "f15505c6",
   "metadata": {},
   "outputs": [],
   "source": [
    "selected_feature = ['EDA_mean', 'EDA_std', 'EDA_slope', 'RESP_rate', 'RESP_regularity',\n",
    "       'HR', 'RMSSD', 'SDNN', 'pNN50', 'hr_diff', 'hr_center', 'hr_slope',\n",
    "       'hr_resp_interaction', 'hr_resp_z_interaction', 'hrv_stress_index']"
   ]
  },
  {
   "cell_type": "code",
   "execution_count": 20,
   "id": "818e9299",
   "metadata": {},
   "outputs": [],
   "source": [
    "X = df_1[selected_feature]\n",
    "y = df_1['rulebased_label']"
   ]
  },
  {
   "cell_type": "code",
   "execution_count": 21,
   "id": "d3b70612",
   "metadata": {},
   "outputs": [],
   "source": [
    "from sklearn.pipeline import Pipeline\n",
    "from sklearn.preprocessing import StandardScaler\n",
    "from sklearn.ensemble import RandomForestClassifier\n",
    "from sklearn.model_selection import StratifiedKFold, cross_val_predict\n",
    "from sklearn.metrics import classification_report, confusion_matrix"
   ]
  },
  {
   "cell_type": "code",
   "execution_count": 22,
   "id": "754c15b2",
   "metadata": {},
   "outputs": [],
   "source": [
    "import matplotlib.pyplot as plt\n",
    "import seaborn as sns"
   ]
  },
  {
   "cell_type": "code",
   "execution_count": 23,
   "id": "9b0079e0",
   "metadata": {},
   "outputs": [],
   "source": [
    "pipeline = Pipeline([\n",
    "    ('scaler', StandardScaler()),\n",
    "    ('rf', RandomForestClassifier(max_depth=None, min_samples_split=2, n_estimators=50, random_state=42))\n",
    "])"
   ]
  },
  {
   "cell_type": "code",
   "execution_count": 24,
   "id": "07f65b23",
   "metadata": {},
   "outputs": [],
   "source": [
    "skf = StratifiedKFold(n_splits=5, shuffle=True, random_state=42)"
   ]
  },
  {
   "cell_type": "code",
   "execution_count": 25,
   "id": "751dc074",
   "metadata": {},
   "outputs": [],
   "source": [
    "y_pred = cross_val_predict(pipeline, X, y, cv=skf)"
   ]
  },
  {
   "cell_type": "code",
   "execution_count": 26,
   "id": "c860a62e",
   "metadata": {},
   "outputs": [
    {
     "name": "stdout",
     "output_type": "stream",
     "text": [
      "              precision    recall  f1-score   support\n",
      "\n",
      "   Not Focus       0.99      1.00      0.99       794\n",
      "       Focus       0.97      0.94      0.95        98\n",
      "\n",
      "    accuracy                           0.99       892\n",
      "   macro avg       0.98      0.97      0.97       892\n",
      "weighted avg       0.99      0.99      0.99       892\n",
      "\n"
     ]
    }
   ],
   "source": [
    "print(classification_report(y_true=y, y_pred=y_pred, target_names=[\"Not Focus\", \"Focus\"]))"
   ]
  },
  {
   "cell_type": "code",
   "execution_count": 27,
   "id": "6df5f8a3",
   "metadata": {},
   "outputs": [
    {
     "data": {
      "image/png": "[encoded data removed]",
      "text/plain": [
       "<Figure size 640x480 with 2 Axes>"
      ]
     },
     "metadata": {},
     "output_type": "display_data"
    }
   ],
   "source": [
    "cm = confusion_matrix(y, y_pred)\n",
    "sns.heatmap(cm, annot=True, fmt='d', cmap='Blues')\n",
    "plt.xlabel(\"Predicted\")\n",
    "plt.ylabel(\"Actual\")\n",
    "plt.title(\"Confusion Matrix\")\n",
    "plt.show()"
   ]
  },
  {
   "cell_type": "code",
   "execution_count": null,
   "id": "8d3d5079",
   "metadata": {},
   "outputs": [
    {
     "data": {
      "text/plain": [
       "rulebased_label\n",
       "0    809\n",
       "1     98\n",
       "Name: count, dtype: int64"
      ]
     },
     "execution_count": 28,
     "metadata": {},
     "output_type": "execute_result"
    }
   ],
   "source": [
    "df_1.value_counts('rulebased_label')"
   ]
  },
  {
   "cell_type": "code",
   "execution_count": null,
   "id": "e05b2f5d",
   "metadata": {},
   "outputs": [
    {
     "data": {
      "text/plain": [
       "focus_label\n",
       "1    508\n",
       "0    399\n",
       "Name: count, dtype: int64"
      ]
     },
     "execution_count": 29,
     "metadata": {},
     "output_type": "execute_result"
    }
   ],
   "source": [
    "df_1.value_counts('focus_label')"
   ]
  },
  {
   "cell_type": "code",
   "execution_count": 31,
   "id": "58b9e3a9",
   "metadata": {},
   "outputs": [
    {
     "name": "stdout",
     "output_type": "stream",
     "text": [
      "              precision    recall  f1-score   support\n",
      "\n",
      "   Not Focus       0.47      0.94      0.62       397\n",
      "       Focus       0.74      0.15      0.25       495\n",
      "\n",
      "    accuracy                           0.50       892\n",
      "   macro avg       0.61      0.54      0.44       892\n",
      "weighted avg       0.62      0.50      0.41       892\n",
      "\n"
     ]
    }
   ],
   "source": [
    "print(classification_report(df_1['focus_label'], df_1['rulebased_label'],target_names=['Not Focus', 'Focus']))"
   ]
  },
  {
   "cell_type": "code",
   "execution_count": null,
   "id": "9bd52973",
   "metadata": {},
   "outputs": [],
   "source": []
  }
 ],
 "metadata": {
  "kernelspec": {
   "display_name": "Python 3",
   "language": "python",
   "name": "python3"
  },
  "language_info": {
   "codemirror_mode": {
    "name": "ipython",
    "version": 3
   },
   "file_extension": ".py",
   "mimetype": "text/x-python",
   "name": "python",
   "nbconvert_exporter": "python",
   "pygments_lexer": "ipython3",
   "version": "3.11.11"
  }
 },
 "nbformat": 4,
 "nbformat_minor": 5
}
