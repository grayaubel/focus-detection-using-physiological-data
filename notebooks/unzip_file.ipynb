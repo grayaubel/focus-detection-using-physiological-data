{
 "cells": [
  {
   "cell_type": "markdown",
   "id": "ead90588",
   "metadata": {},
   "source": [
    "# Extract zipfile from each S[num] to E4 folder"
   ]
  },
  {
   "cell_type": "code",
   "execution_count": 8,
   "id": "7d12b976",
   "metadata": {},
   "outputs": [],
   "source": [
    "import os\n",
    "import zipfile"
   ]
  },
  {
   "cell_type": "code",
   "execution_count": 9,
   "id": "b7b7111b",
   "metadata": {},
   "outputs": [],
   "source": [
    "base_path = \"/Users/wan_aubel/Desktop/focus-detection/focus-detection-using-physiological-data/data/raw/WESAD\""
   ]
  },
  {
   "cell_type": "code",
   "execution_count": 17,
   "id": "ec1140b1",
   "metadata": {},
   "outputs": [],
   "source": [
    "for folder in os.listdir(base_path):\n",
    "    folder_path = os.path.join(base_path, folder)\n",
    "    if os.path.isdir(folder_path) and folder.startswith('S'):\n",
    "        zip_file = [f for f in os.listdir(folder_path) if f.endswith(\".zip\")]\n",
    "        zip_path = os.path.join(folder_path, zip_file[0])\n",
    "        extract_path = os.path.join(folder_path, \"E4\")\n",
    "\n",
    "        os.makedirs(extract_path)\n",
    "\n",
    "        with zipfile.ZipFile(zip_path, 'r') as zip_ref:\n",
    "            zip_ref.extractall(extract_path)"
   ]
  }
 ],
 "metadata": {
  "kernelspec": {
   "display_name": "Python 3",
   "language": "python",
   "name": "python3"
  },
  "language_info": {
   "codemirror_mode": {
    "name": "ipython",
    "version": 3
   },
   "file_extension": ".py",
   "mimetype": "text/x-python",
   "name": "python",
   "nbconvert_exporter": "python",
   "pygments_lexer": "ipython3",
   "version": "3.11.11"
  }
 },
 "nbformat": 4,
 "nbformat_minor": 5
}
